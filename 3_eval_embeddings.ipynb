{
 "cells": [
  {
   "cell_type": "code",
   "execution_count": 1,
   "metadata": {},
   "outputs": [],
   "source": [
    "import lib as l"
   ]
  },
  {
   "cell_type": "code",
   "execution_count": 2,
   "metadata": {},
   "outputs": [
    {
     "name": "stdout",
     "output_type": "stream",
     "text": [
      "Loaded data from France, took 12.022 seconds\n",
      "Dataset has size (68499, 3) and columns ['date' 'article' 'lemmas']\n",
      "10455.939\n"
     ]
    }
   ],
   "source": [
    "l.EMB.create_model(\"France\", \"telephone\")\n",
    "#l.EMB.create_model(\"Hamburg\", \"telephone\")"
   ]
  },
  {
   "cell_type": "code",
   "execution_count": 4,
   "metadata": {},
   "outputs": [],
   "source": [
    "embeddings_fr, id2word_fr, word2id_fr = l.EMB.load_vec(\"vectors-fr.txt\")\n",
    "embeddings_en, id2word_en, word2id_en = l.EMB.load_vec(\"vectors-en.txt\")"
   ]
  },
  {
   "cell_type": "code",
   "execution_count": 6,
   "metadata": {},
   "outputs": [],
   "source": [
    "embeddings_fr = l.np.nan_to_num(embeddings_fr)\n",
    "embeddings_fr[embeddings_fr == l.np.inf] = 0\n",
    "embeddings_fr[embeddings_fr == -l.np.inf] = 0\n",
    "\n",
    "\n",
    "embeddings_en = l.np.nan_to_num(embeddings_en)\n",
    "embeddings_en[embeddings_en == l.np.inf] = 0\n",
    "embeddings_en[embeddings_en == -l.np.inf] = 0"
   ]
  },
  {
   "cell_type": "code",
   "execution_count": 7,
   "metadata": {},
   "outputs": [],
   "source": [
    "embeddings_en = (embeddings_en - l.np.mean(embeddings_en, axis=0)) / l.np.std(embeddings_en, axis=0)\n",
    "embeddings_fr = (embeddings_fr - l.np.mean(embeddings_fr, axis=0)) / l.np.std(embeddings_fr, axis=0)"
   ]
  },
  {
   "cell_type": "code",
   "execution_count": 5,
   "metadata": {},
   "outputs": [
    {
     "data": {
      "text/plain": [
       "50000"
      ]
     },
     "execution_count": 5,
     "metadata": {},
     "output_type": "execute_result"
    }
   ],
   "source": [
    "len(embeddings_en*len(embeddings_en[0]))"
   ]
  },
  {
   "cell_type": "code",
   "execution_count": 8,
   "metadata": {},
   "outputs": [],
   "source": [
    "from sklearn.decomposition import PCA\n",
    "pca = PCA(n_components=2, whiten=True,svd_solver='full')  # TSNE(n_components=2, n_iter=3000, verbose=2)\n",
    "pca.fit(l.np.vstack([embeddings_fr, embeddings_en]))\n",
    "print('Variance explained: %.2f' % pca.explained_variance_ratio_.sum())"
   ]
  },
  {
   "cell_type": "code",
   "execution_count": 1,
   "metadata": {},
   "outputs": [],
   "source": [
    "import matplotlib.pyplot as plt\n",
    "from random import random\n",
    "def plot_similar_word(topics_df, src_word2id, src_emb, tgt_word2id, tgt_emb, pca):\n",
    "\n",
    "    Y = []\n",
    "    word_labels = []\n",
    "    word_marker = []\n",
    "    word_color = []\n",
    "\n",
    "    for topic in topics_df.iterrows():\n",
    "      #color = (random(), random(), random())\n",
    "       for w in l.U.to_list(topic[1]):\n",
    "         try:\n",
    "            if topic[1][\"lang\"] == \"fr\":\n",
    "              Y.append(tgt_emb[tgt_word2id[w]])\n",
    "              word_marker.append(\"x\")\n",
    "              word_color.append((0,0,1))\n",
    "            else:\n",
    "              Y.append(src_emb[src_word2id[w]])\n",
    "              word_marker.append(\"o\")\n",
    "              word_color.append((1,0,0))\n",
    "         except: \n",
    "            pass\n",
    "\n",
    "    # find tsne coords for 2 dimensions\n",
    "    Y = pca.transform(Y)\n",
    "    x_coords = Y[:, 0]\n",
    "    y_coords = Y[:, 1]\n",
    "\n",
    "    # display scatter plot\n",
    "    plt.figure(figsize=(15, 15), dpi=80)\n",
    "\n",
    "    plt.scatter(Y[:word_marker.count('x'), 0], Y[:word_marker.count('x'), 1], marker='x')\n",
    "    plt.scatter(Y[word_marker.count('o'):, 0], Y[word_marker.count('o'):, 1], marker='o')\n",
    "\n",
    "    for k, (label, color, x, y) in enumerate(zip(word_labels, word_color, x_coords, y_coords)):\n",
    "        #color = 'blue' if k < len(src_words) else 'red'  # src words in blue / tgt words in red\n",
    "        plt.annotate(label, xy=(x, y), xytext=(0, 0), textcoords='offset points', fontsize=19,\n",
    "                     color=color)\n",
    "\n",
    "    plt.xlim(x_coords.min() - 0.2, x_coords.max() + 0.2)\n",
    "    plt.ylim(y_coords.min() - 0.2, y_coords.max() + 0.2)\n",
    "    plt.title('Visualization of the multilingual word embedding space')\n",
    "    plt.savefig('viz.png')\n",
    "    plt.show()"
   ]
  },
  {
   "cell_type": "code",
   "execution_count": 4,
   "metadata": {},
   "outputs": [
    {
     "ename": "NameError",
     "evalue": "name 'l' is not defined",
     "output_type": "error",
     "traceback": [
      "\u001b[0;31m---------------------------------------------------------------------------\u001b[0m",
      "\u001b[0;31mNameError\u001b[0m                                 Traceback (most recent call last)",
      "\u001b[0;32m<ipython-input-4-dfc81eed6940>\u001b[0m in \u001b[0;36m<module>\u001b[0;34m\u001b[0m\n\u001b[0;32m----> 1\u001b[0;31m \u001b[0mtopics_df\u001b[0m \u001b[0;34m=\u001b[0m \u001b[0ml\u001b[0m\u001b[0;34m.\u001b[0m\u001b[0mpd\u001b[0m\u001b[0;34m.\u001b[0m\u001b[0mread_csv\u001b[0m\u001b[0;34m(\u001b[0m\u001b[0;34m\"data/topics.csv\"\u001b[0m\u001b[0;34m)\u001b[0m\u001b[0;34m\u001b[0m\u001b[0;34m\u001b[0m\u001b[0m\n\u001b[0m\u001b[1;32m      2\u001b[0m \u001b[0mtopics_df\u001b[0m\u001b[0;34m.\u001b[0m\u001b[0mtopic_name\u001b[0m \u001b[0;34m=\u001b[0m \u001b[0mtopics_df\u001b[0m\u001b[0;34m.\u001b[0m\u001b[0mtopic_name\u001b[0m\u001b[0;34m.\u001b[0m\u001b[0mapply\u001b[0m\u001b[0;34m(\u001b[0m\u001b[0;32mlambda\u001b[0m \u001b[0mx\u001b[0m \u001b[0;34m:\u001b[0m \u001b[0mx\u001b[0m\u001b[0;34m.\u001b[0m\u001b[0mlower\u001b[0m\u001b[0;34m(\u001b[0m\u001b[0;34m)\u001b[0m\u001b[0;34m)\u001b[0m\u001b[0;34m\u001b[0m\u001b[0;34m\u001b[0m\u001b[0m\n",
      "\u001b[0;31mNameError\u001b[0m: name 'l' is not defined"
     ]
    }
   ],
   "source": [
    "topics_df = l.pd.read_csv(\"data/topics.csv\")\n",
    "topics_df.topic_name = topics_df.topic_name.apply(lambda x : x.lower())"
   ]
  },
  {
   "cell_type": "code",
   "execution_count": 5,
   "metadata": {},
   "outputs": [
    {
     "ename": "NameError",
     "evalue": "name 'topics_df' is not defined",
     "output_type": "error",
     "traceback": [
      "\u001b[0;31m---------------------------------------------------------------------------\u001b[0m",
      "\u001b[0;31mNameError\u001b[0m                                 Traceback (most recent call last)",
      "\u001b[0;32m<ipython-input-5-905c46907e2d>\u001b[0m in \u001b[0;36m<module>\u001b[0;34m\u001b[0m\n\u001b[0;32m----> 1\u001b[0;31m \u001b[0mtopics_viz\u001b[0m \u001b[0;34m=\u001b[0m \u001b[0mtopics_df\u001b[0m\u001b[0;34m[\u001b[0m\u001b[0mtopics_df\u001b[0m\u001b[0;34m[\u001b[0m\u001b[0;34m\"id\"\u001b[0m\u001b[0;34m]\u001b[0m\u001b[0;34m==\u001b[0m\u001b[0;34m\"eng_1900_telephone_13\"\u001b[0m\u001b[0;34m]\u001b[0m \u001b[0;31m#politics\u001b[0m\u001b[0;34m\u001b[0m\u001b[0;34m\u001b[0m\u001b[0m\n\u001b[0m\u001b[1;32m      2\u001b[0m \u001b[0mtopics_viz\u001b[0m \u001b[0;34m=\u001b[0m \u001b[0mtopics_viz\u001b[0m\u001b[0;34m.\u001b[0m\u001b[0mappend\u001b[0m\u001b[0;34m(\u001b[0m\u001b[0mtopics_df\u001b[0m\u001b[0;34m[\u001b[0m\u001b[0mtopics_df\u001b[0m\u001b[0;34m[\u001b[0m\u001b[0;34m\"id\"\u001b[0m\u001b[0;34m]\u001b[0m\u001b[0;34m==\u001b[0m\u001b[0;34m\"fr_1920_telephone_6\"\u001b[0m\u001b[0;34m]\u001b[0m\u001b[0;34m)\u001b[0m \u001b[0;31m#politics\u001b[0m\u001b[0;34m\u001b[0m\u001b[0;34m\u001b[0m\u001b[0m\n\u001b[1;32m      3\u001b[0m \u001b[0mtopics_viz\u001b[0m \u001b[0;34m=\u001b[0m \u001b[0mtopics_viz\u001b[0m\u001b[0;34m.\u001b[0m\u001b[0mappend\u001b[0m\u001b[0;34m(\u001b[0m\u001b[0mtopics_df\u001b[0m\u001b[0;34m[\u001b[0m\u001b[0mtopics_df\u001b[0m\u001b[0;34m[\u001b[0m\u001b[0;34m\"id\"\u001b[0m\u001b[0;34m]\u001b[0m\u001b[0;34m==\u001b[0m\u001b[0;34m\"eng_1870_telephone_3\"\u001b[0m\u001b[0;34m]\u001b[0m\u001b[0;34m)\u001b[0m \u001b[0;31m#sales\u001b[0m\u001b[0;34m\u001b[0m\u001b[0;34m\u001b[0m\u001b[0m\n\u001b[1;32m      4\u001b[0m \u001b[0mtopics_viz\u001b[0m \u001b[0;34m=\u001b[0m \u001b[0mtopics_viz\u001b[0m\u001b[0;34m.\u001b[0m\u001b[0mappend\u001b[0m\u001b[0;34m(\u001b[0m\u001b[0mtopics_df\u001b[0m\u001b[0;34m[\u001b[0m\u001b[0mtopics_df\u001b[0m\u001b[0;34m[\u001b[0m\u001b[0;34m\"id\"\u001b[0m\u001b[0;34m]\u001b[0m\u001b[0;34m==\u001b[0m\u001b[0;34m\"fr_1900_telephone_4\"\u001b[0m\u001b[0;34m]\u001b[0m\u001b[0;34m)\u001b[0m \u001b[0;31m#sales\u001b[0m\u001b[0;34m\u001b[0m\u001b[0;34m\u001b[0m\u001b[0m\n",
      "\u001b[0;31mNameError\u001b[0m: name 'topics_df' is not defined"
     ]
    }
   ],
   "source": [
    "topics_viz = topics_df[topics_df[\"id\"]==\"eng_1900_telephone_13\"] #politics\n",
    "topics_viz = topics_viz.append(topics_df[topics_df[\"id\"]==\"fr_1920_telephone_6\"]) #politics\n",
    "topics_viz = topics_viz.append(topics_df[topics_df[\"id\"]==\"eng_1870_telephone_3\"]) #sales\n",
    "topics_viz = topics_viz.append(topics_df[topics_df[\"id\"]==\"fr_1900_telephone_4\"]) #sales"
   ]
  },
  {
   "cell_type": "code",
   "execution_count": 38,
   "metadata": {},
   "outputs": [
    {
     "data": {
      "text/html": [
       "<div>\n",
       "<style scoped>\n",
       "    .dataframe tbody tr th:only-of-type {\n",
       "        vertical-align: middle;\n",
       "    }\n",
       "\n",
       "    .dataframe tbody tr th {\n",
       "        vertical-align: top;\n",
       "    }\n",
       "\n",
       "    .dataframe thead th {\n",
       "        text-align: right;\n",
       "    }\n",
       "</style>\n",
       "<table border=\"1\" class=\"dataframe\">\n",
       "  <thead>\n",
       "    <tr style=\"text-align: right;\">\n",
       "      <th></th>\n",
       "      <th>id</th>\n",
       "      <th>lang</th>\n",
       "      <th>timespan</th>\n",
       "      <th>keyword</th>\n",
       "      <th>topics</th>\n",
       "      <th>topic_name</th>\n",
       "      <th>count</th>\n",
       "    </tr>\n",
       "  </thead>\n",
       "  <tbody>\n",
       "    <tr>\n",
       "      <th>517</th>\n",
       "      <td>eng_1900_telephone_13</td>\n",
       "      <td>eng</td>\n",
       "      <td>1900</td>\n",
       "      <td>telephone</td>\n",
       "      <td>['Senator', 'Government', 'President', 'States...</td>\n",
       "      <td>politics</td>\n",
       "      <td>2718</td>\n",
       "    </tr>\n",
       "    <tr>\n",
       "      <th>488</th>\n",
       "      <td>fr_1920_telephone_6</td>\n",
       "      <td>fr</td>\n",
       "      <td>1920</td>\n",
       "      <td>telephone</td>\n",
       "      <td>['gouvernement', 'allemand', 'guerre', 'questi...</td>\n",
       "      <td>politics</td>\n",
       "      <td>1512</td>\n",
       "    </tr>\n",
       "    <tr>\n",
       "      <th>14</th>\n",
       "      <td>eng_1870_telephone_3</td>\n",
       "      <td>eng</td>\n",
       "      <td>1870</td>\n",
       "      <td>telephone</td>\n",
       "      <td>['MATINEE', 'street', 'Miss', 'SATURDAY', 'THE...</td>\n",
       "      <td>theatre</td>\n",
       "      <td>327</td>\n",
       "    </tr>\n",
       "    <tr>\n",
       "      <th>424</th>\n",
       "      <td>fr_1900_telephone_4</td>\n",
       "      <td>fr</td>\n",
       "      <td>1900</td>\n",
       "      <td>telephone</td>\n",
       "      <td>['mlle', 'representation', 'revue', 'matinee',...</td>\n",
       "      <td>theatre</td>\n",
       "      <td>3645</td>\n",
       "    </tr>\n",
       "  </tbody>\n",
       "</table>\n",
       "</div>"
      ],
      "text/plain": [
       "                        id lang  timespan    keyword  \\\n",
       "517  eng_1900_telephone_13  eng      1900  telephone   \n",
       "488    fr_1920_telephone_6   fr      1920  telephone   \n",
       "14    eng_1870_telephone_3  eng      1870  telephone   \n",
       "424    fr_1900_telephone_4   fr      1900  telephone   \n",
       "\n",
       "                                                topics topic_name  count  \n",
       "517  ['Senator', 'Government', 'President', 'States...   politics   2718  \n",
       "488  ['gouvernement', 'allemand', 'guerre', 'questi...   politics   1512  \n",
       "14   ['MATINEE', 'street', 'Miss', 'SATURDAY', 'THE...    theatre    327  \n",
       "424  ['mlle', 'representation', 'revue', 'matinee',...    theatre   3645  "
      ]
     },
     "execution_count": 38,
     "metadata": {},
     "output_type": "execute_result"
    }
   ],
   "source": [
    "topics_viz"
   ]
  },
  {
   "cell_type": "code",
   "execution_count": 2,
   "metadata": {},
   "outputs": [
    {
     "ename": "NameError",
     "evalue": "name 'topics_viz' is not defined",
     "output_type": "error",
     "traceback": [
      "\u001b[0;31m---------------------------------------------------------------------------\u001b[0m",
      "\u001b[0;31mNameError\u001b[0m                                 Traceback (most recent call last)",
      "\u001b[0;32m<ipython-input-2-5ac6fc6156c3>\u001b[0m in \u001b[0;36m<module>\u001b[0;34m\u001b[0m\n\u001b[0;32m----> 1\u001b[0;31m \u001b[0mplot_similar_word\u001b[0m\u001b[0;34m(\u001b[0m\u001b[0mtopics_viz\u001b[0m\u001b[0;34m,\u001b[0m \u001b[0mword2id_fr\u001b[0m\u001b[0;34m,\u001b[0m \u001b[0membeddings_fr\u001b[0m\u001b[0;34m,\u001b[0m \u001b[0mword2id_en\u001b[0m\u001b[0;34m,\u001b[0m \u001b[0membeddings_en\u001b[0m\u001b[0;34m,\u001b[0m \u001b[0mpca\u001b[0m\u001b[0;34m)\u001b[0m\u001b[0;34m\u001b[0m\u001b[0;34m\u001b[0m\u001b[0m\n\u001b[0m",
      "\u001b[0;31mNameError\u001b[0m: name 'topics_viz' is not defined"
     ]
    }
   ],
   "source": [
    "plot_similar_word(topics_viz, word2id_fr, embeddings_fr, word2id_en, embeddings_en, pca)"
   ]
  }
 ],
 "metadata": {
  "kernelspec": {
   "display_name": "base",
   "language": "python",
   "name": "python3"
  },
  "language_info": {
   "codemirror_mode": {
    "name": "ipython",
    "version": 3
   },
   "file_extension": ".py",
   "mimetype": "text/x-python",
   "name": "python",
   "nbconvert_exporter": "python",
   "pygments_lexer": "ipython3",
   "version": "3.9.13"
  },
  "orig_nbformat": 4
 },
 "nbformat": 4,
 "nbformat_minor": 2
}
